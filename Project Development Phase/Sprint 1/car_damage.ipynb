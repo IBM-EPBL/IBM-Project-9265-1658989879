{
  "cells": [
    {
      "cell_type": "markdown",
      "metadata": {
        "id": "kC4vorJ65D3-"
      },
      "source": [
        "Importing the Image Data Generator Libraries "
      ]
    },
    {
      "cell_type": "code",
      "execution_count": 1,
      "metadata": {
        "id": "C0yYvq-F5D4A"
      },
      "outputs": [],
      "source": [
        "import tensorflow as tf \n",
        "import keras \n",
        "from keras.preprocessing.image import ImageDataGenerator"
      ]
    },
    {
      "cell_type": "markdown",
      "metadata": {
        "id": "43RcSgBr5D4B"
      },
      "source": [
        "Canfiguring The Image Data Generator "
      ]
    },
    {
      "cell_type": "code",
      "execution_count": 73,
      "metadata": {
        "id": "vrXF7mn45D4B"
      },
      "outputs": [],
      "source": [
        "#training images \n",
        "train_datagen = ImageDataGenerator(\n",
        "        rescale=1./255,\n",
        "        shear_range=0.1,\n",
        "        zoom_range=0.1,\n",
        "        horizontal_flip=True)\n",
        "\n",
        "#val images \n",
        "val_datagen = ImageDataGenerator(rescale=1./255)"
      ]
    },
    {
      "cell_type": "markdown",
      "metadata": {
        "id": "KB7KXQeo5D4C"
      },
      "source": [
        "Applying the image generator to the body "
      ]
    },
    {
      "cell_type": "code",
      "source": [
        "from google.colab import drive\n",
        "drive.mount('/content/drive')"
      ],
      "metadata": {
        "colab": {
          "base_uri": "https://localhost:8080/"
        },
        "id": "XkQfNnTk8qO4",
        "outputId": "c2f9b3ff-7331-435e-c268-4187e0e1dd6e"
      },
      "execution_count": 4,
      "outputs": [
        {
          "output_type": "stream",
          "name": "stdout",
          "text": [
            "Mounted at /content/drive\n"
          ]
        }
      ]
    },
    {
      "cell_type": "code",
      "execution_count": 77,
      "metadata": {
        "colab": {
          "base_uri": "https://localhost:8080/"
        },
        "id": "n3_icgvC5D4C",
        "outputId": "5022f078-27aa-4c97-df39-5799cb4078fe"
      },
      "outputs": [
        {
          "output_type": "stream",
          "name": "stdout",
          "text": [
            "Found 979 images belonging to 3 classes.\n"
          ]
        }
      ],
      "source": [
        "body_train_set = train_datagen.flow_from_directory(\n",
        "        '/content/drive/MyDrive/Dataset/Car damage/body/training',\n",
        "        target_size=(224, 224),\n",
        "        batch_size=10,\n",
        "        class_mode='categorical')"
      ]
    },
    {
      "cell_type": "code",
      "execution_count": 62,
      "metadata": {
        "colab": {
          "base_uri": "https://localhost:8080/"
        },
        "id": "0kHZCVW25D4C",
        "outputId": "e220360b-e0fe-4def-c635-4c7040e76afb"
      },
      "outputs": [
        {
          "output_type": "stream",
          "name": "stdout",
          "text": [
            "Found 171 images belonging to 3 classes.\n"
          ]
        }
      ],
      "source": [
        "body_val_set = val_datagen.flow_from_directory(\n",
        "        '/content/drive/MyDrive/Dataset/Car damage/body/validation',\n",
        "        target_size=(224, 224),\n",
        "        batch_size=10,\n",
        "        class_mode='categorical')"
      ]
    },
    {
      "cell_type": "markdown",
      "metadata": {
        "id": "74R2rhFw5D4D"
      },
      "source": [
        "Applying the image generator to the level "
      ]
    },
    {
      "cell_type": "code",
      "execution_count": 75,
      "metadata": {
        "colab": {
          "base_uri": "https://localhost:8080/"
        },
        "id": "j4Zwa4H-5D4D",
        "outputId": "1117027e-f07b-46b9-abca-c3f861e29440"
      },
      "outputs": [
        {
          "output_type": "stream",
          "name": "stdout",
          "text": [
            "Found 979 images belonging to 3 classes.\n"
          ]
        }
      ],
      "source": [
        "level_train_set = train_datagen.flow_from_directory(\n",
        "        '/content/drive/MyDrive/Dataset/Car damage/level/training',\n",
        "        target_size=(224, 224),\n",
        "        batch_size=10,\n",
        "        class_mode='categorical')"
      ]
    },
    {
      "cell_type": "code",
      "execution_count": 86,
      "metadata": {
        "colab": {
          "base_uri": "https://localhost:8080/"
        },
        "id": "b9ISVvtv5D4D",
        "outputId": "b18eab42-a75a-44e7-b4c4-b5c21b064ef7"
      },
      "outputs": [
        {
          "output_type": "stream",
          "name": "stdout",
          "text": [
            "Found 175 images belonging to 3 classes.\n"
          ]
        }
      ],
      "source": [
        "level_val_set = val_datagen.flow_from_directory(\n",
        "        '/content/drive/MyDrive/Dataset/Car damage/level/validation',\n",
        "        target_size=(224, 224),\n",
        "        batch_size=10,\n",
        "        class_mode='categorical')"
      ]
    },
    {
      "cell_type": "code",
      "execution_count": 80,
      "metadata": {
        "id": "d6Jueku65D4E"
      },
      "outputs": [],
      "source": [
        "from keras.layers import Dense, Flatten, Input \n",
        "from keras.models import Model \n",
        "from keras.applications.vgg16 import VGG16, preprocess_input"
      ]
    },
    {
      "cell_type": "code",
      "source": [
        "vgg = VGG16(input_shape=(224,224,3),weights='imagenet',include_top=False)\n",
        "for layer in vgg.layers:\n",
        "  layer.trainable = False\n",
        "x = Flatten()(vgg.output)\n",
        "prediction = Dense(3,activation='softmax')(x)"
      ],
      "metadata": {
        "id": "8DnUyOd57TvX"
      },
      "execution_count": 87,
      "outputs": []
    },
    {
      "cell_type": "code",
      "source": [
        "model = Model(inputs=vgg.input,outputs = prediction)\n",
        "model.summary()"
      ],
      "metadata": {
        "colab": {
          "base_uri": "https://localhost:8080/"
        },
        "id": "RdUNovuYDVaW",
        "outputId": "cc48dece-c147-48db-81a0-a6a305deee39"
      },
      "execution_count": 88,
      "outputs": [
        {
          "output_type": "stream",
          "name": "stdout",
          "text": [
            "Model: \"model_8\"\n",
            "_________________________________________________________________\n",
            " Layer (type)                Output Shape              Param #   \n",
            "=================================================================\n",
            " input_9 (InputLayer)        [(None, 224, 224, 3)]     0         \n",
            "                                                                 \n",
            " block1_conv1 (Conv2D)       (None, 224, 224, 64)      1792      \n",
            "                                                                 \n",
            " block1_conv2 (Conv2D)       (None, 224, 224, 64)      36928     \n",
            "                                                                 \n",
            " block1_pool (MaxPooling2D)  (None, 112, 112, 64)      0         \n",
            "                                                                 \n",
            " block2_conv1 (Conv2D)       (None, 112, 112, 128)     73856     \n",
            "                                                                 \n",
            " block2_conv2 (Conv2D)       (None, 112, 112, 128)     147584    \n",
            "                                                                 \n",
            " block2_pool (MaxPooling2D)  (None, 56, 56, 128)       0         \n",
            "                                                                 \n",
            " block3_conv1 (Conv2D)       (None, 56, 56, 256)       295168    \n",
            "                                                                 \n",
            " block3_conv2 (Conv2D)       (None, 56, 56, 256)       590080    \n",
            "                                                                 \n",
            " block3_conv3 (Conv2D)       (None, 56, 56, 256)       590080    \n",
            "                                                                 \n",
            " block3_pool (MaxPooling2D)  (None, 28, 28, 256)       0         \n",
            "                                                                 \n",
            " block4_conv1 (Conv2D)       (None, 28, 28, 512)       1180160   \n",
            "                                                                 \n",
            " block4_conv2 (Conv2D)       (None, 28, 28, 512)       2359808   \n",
            "                                                                 \n",
            " block4_conv3 (Conv2D)       (None, 28, 28, 512)       2359808   \n",
            "                                                                 \n",
            " block4_pool (MaxPooling2D)  (None, 14, 14, 512)       0         \n",
            "                                                                 \n",
            " block5_conv1 (Conv2D)       (None, 14, 14, 512)       2359808   \n",
            "                                                                 \n",
            " block5_conv2 (Conv2D)       (None, 14, 14, 512)       2359808   \n",
            "                                                                 \n",
            " block5_conv3 (Conv2D)       (None, 14, 14, 512)       2359808   \n",
            "                                                                 \n",
            " block5_pool (MaxPooling2D)  (None, 7, 7, 512)         0         \n",
            "                                                                 \n",
            " flatten_7 (Flatten)         (None, 25088)             0         \n",
            "                                                                 \n",
            " dense_7 (Dense)             (None, 3)                 75267     \n",
            "                                                                 \n",
            "=================================================================\n",
            "Total params: 14,789,955\n",
            "Trainable params: 75,267\n",
            "Non-trainable params: 14,714,688\n",
            "_________________________________________________________________\n"
          ]
        }
      ]
    },
    {
      "cell_type": "code",
      "source": [
        "model.compile(optimizer='adam',loss='categorical_crossentropy',metrics=['accuracy'])"
      ],
      "metadata": {
        "id": "4Pev5AL7DeYJ"
      },
      "execution_count": 89,
      "outputs": []
    },
    {
      "cell_type": "code",
      "source": [
        "import sys \n",
        "model.fit(body_train_set,validation_data=level_val_set,epochs=25,steps_per_epoch=979//10,validation_steps=175//10)"
      ],
      "metadata": {
        "colab": {
          "base_uri": "https://localhost:8080/"
        },
        "id": "4cTSaxngD4a9",
        "outputId": "0d8924fb-614b-4d30-9bb1-87fc61904361"
      },
      "execution_count": 90,
      "outputs": [
        {
          "output_type": "stream",
          "name": "stdout",
          "text": [
            "Epoch 1/25\n",
            "97/97 [==============================] - 30s 305ms/step - loss: 1.2089 - accuracy: 0.5511 - val_loss: 2.7505 - val_accuracy: 0.2353\n",
            "Epoch 2/25\n",
            "97/97 [==============================] - 16s 166ms/step - loss: 0.6349 - accuracy: 0.7358 - val_loss: 2.7987 - val_accuracy: 0.2647\n",
            "Epoch 3/25\n",
            "97/97 [==============================] - 16s 162ms/step - loss: 0.4991 - accuracy: 0.8163 - val_loss: 3.0798 - val_accuracy: 0.2765\n",
            "Epoch 4/25\n",
            "97/97 [==============================] - 15s 155ms/step - loss: 0.4013 - accuracy: 0.8473 - val_loss: 3.7942 - val_accuracy: 0.2588\n",
            "Epoch 5/25\n",
            "97/97 [==============================] - 17s 170ms/step - loss: 0.2752 - accuracy: 0.9020 - val_loss: 4.0837 - val_accuracy: 0.2294\n",
            "Epoch 6/25\n",
            "97/97 [==============================] - 15s 158ms/step - loss: 0.2741 - accuracy: 0.8958 - val_loss: 4.5609 - val_accuracy: 0.2765\n",
            "Epoch 7/25\n",
            "97/97 [==============================] - 15s 156ms/step - loss: 0.2568 - accuracy: 0.8989 - val_loss: 3.8147 - val_accuracy: 0.3176\n",
            "Epoch 8/25\n",
            "97/97 [==============================] - 16s 166ms/step - loss: 0.2109 - accuracy: 0.9247 - val_loss: 4.3185 - val_accuracy: 0.2941\n",
            "Epoch 9/25\n",
            "97/97 [==============================] - 15s 153ms/step - loss: 0.1147 - accuracy: 0.9690 - val_loss: 4.1826 - val_accuracy: 0.3118\n",
            "Epoch 10/25\n",
            "97/97 [==============================] - 15s 156ms/step - loss: 0.0854 - accuracy: 0.9814 - val_loss: 4.5457 - val_accuracy: 0.2941\n",
            "Epoch 11/25\n",
            "97/97 [==============================] - 16s 165ms/step - loss: 0.0958 - accuracy: 0.9794 - val_loss: 4.7053 - val_accuracy: 0.2882\n",
            "Epoch 12/25\n",
            "97/97 [==============================] - 15s 155ms/step - loss: 0.0712 - accuracy: 0.9856 - val_loss: 4.7017 - val_accuracy: 0.3000\n",
            "Epoch 13/25\n",
            "97/97 [==============================] - 15s 155ms/step - loss: 0.0737 - accuracy: 0.9804 - val_loss: 4.4611 - val_accuracy: 0.2882\n",
            "Epoch 14/25\n",
            "97/97 [==============================] - 16s 164ms/step - loss: 0.0709 - accuracy: 0.9835 - val_loss: 4.8784 - val_accuracy: 0.2941\n",
            "Epoch 15/25\n",
            "97/97 [==============================] - 15s 153ms/step - loss: 0.0544 - accuracy: 0.9856 - val_loss: 4.8973 - val_accuracy: 0.3059\n",
            "Epoch 16/25\n",
            "97/97 [==============================] - 15s 155ms/step - loss: 0.0736 - accuracy: 0.9814 - val_loss: 4.8498 - val_accuracy: 0.2882\n",
            "Epoch 17/25\n",
            "97/97 [==============================] - 16s 166ms/step - loss: 0.0742 - accuracy: 0.9835 - val_loss: 4.6323 - val_accuracy: 0.3118\n",
            "Epoch 18/25\n",
            "97/97 [==============================] - 15s 154ms/step - loss: 0.0560 - accuracy: 0.9897 - val_loss: 5.4491 - val_accuracy: 0.2824\n",
            "Epoch 19/25\n",
            "97/97 [==============================] - 15s 153ms/step - loss: 0.0984 - accuracy: 0.9773 - val_loss: 5.5454 - val_accuracy: 0.3059\n",
            "Epoch 20/25\n",
            "97/97 [==============================] - 16s 163ms/step - loss: 0.1376 - accuracy: 0.9598 - val_loss: 6.1290 - val_accuracy: 0.3176\n",
            "Epoch 21/25\n",
            "97/97 [==============================] - 15s 151ms/step - loss: 0.0606 - accuracy: 0.9804 - val_loss: 6.4068 - val_accuracy: 0.2765\n",
            "Epoch 22/25\n",
            "97/97 [==============================] - 15s 150ms/step - loss: 0.0637 - accuracy: 0.9897 - val_loss: 5.5769 - val_accuracy: 0.2941\n",
            "Epoch 23/25\n",
            "97/97 [==============================] - 16s 163ms/step - loss: 0.0573 - accuracy: 0.9814 - val_loss: 5.8019 - val_accuracy: 0.2882\n",
            "Epoch 24/25\n",
            "97/97 [==============================] - 16s 165ms/step - loss: 0.0515 - accuracy: 0.9886 - val_loss: 5.8544 - val_accuracy: 0.2941\n",
            "Epoch 25/25\n",
            "97/97 [==============================] - 15s 151ms/step - loss: 0.1147 - accuracy: 0.9680 - val_loss: 6.5470 - val_accuracy: 0.3059\n"
          ]
        },
        {
          "output_type": "execute_result",
          "data": {
            "text/plain": [
              "<keras.callbacks.History at 0x7fd0fc980510>"
            ]
          },
          "metadata": {},
          "execution_count": 90
        }
      ]
    },
    {
      "cell_type": "code",
      "source": [
        "model.save('body.h5')"
      ],
      "metadata": {
        "id": "y6vTRy_KEZvR"
      },
      "execution_count": 69,
      "outputs": []
    },
    {
      "cell_type": "code",
      "source": [
        "import sys \n",
        "model.fit(level_train_set,validation_data=body_val_set,epochs=25,steps_per_epoch=979//10,validation_steps=175//10)"
      ],
      "metadata": {
        "colab": {
          "base_uri": "https://localhost:8080/"
        },
        "id": "b4fJWPqkM5Cs",
        "outputId": "7b90f14d-940f-4d01-a517-156f153de5f3"
      },
      "execution_count": 91,
      "outputs": [
        {
          "output_type": "stream",
          "name": "stdout",
          "text": [
            "Epoch 1/25\n",
            "97/97 [==============================] - 562s 6s/step - loss: 4.3518 - accuracy: 0.4861 - val_loss: 9.0484 - val_accuracy: 0.3000\n",
            "Epoch 2/25\n",
            "97/97 [==============================] - 15s 151ms/step - loss: 2.4040 - accuracy: 0.6543 - val_loss: 10.1531 - val_accuracy: 0.2882\n",
            "Epoch 3/25\n",
            "97/97 [==============================] - 15s 152ms/step - loss: 1.5395 - accuracy: 0.7265 - val_loss: 10.5255 - val_accuracy: 0.2353\n",
            "Epoch 4/25\n",
            "97/97 [==============================] - 16s 165ms/step - loss: 1.0665 - accuracy: 0.7771 - val_loss: 10.5748 - val_accuracy: 0.2412\n",
            "Epoch 5/25\n",
            "97/97 [==============================] - 15s 155ms/step - loss: 0.6536 - accuracy: 0.8442 - val_loss: 9.3509 - val_accuracy: 0.2471\n",
            "Epoch 6/25\n",
            "97/97 [==============================] - 15s 153ms/step - loss: 0.3836 - accuracy: 0.8958 - val_loss: 11.8252 - val_accuracy: 0.2412\n",
            "Epoch 7/25\n",
            "97/97 [==============================] - 16s 165ms/step - loss: 0.3693 - accuracy: 0.8762 - val_loss: 9.6993 - val_accuracy: 0.2647\n",
            "Epoch 8/25\n",
            "97/97 [==============================] - 14s 149ms/step - loss: 0.3238 - accuracy: 0.9051 - val_loss: 10.2252 - val_accuracy: 0.2588\n",
            "Epoch 9/25\n",
            "97/97 [==============================] - 14s 148ms/step - loss: 0.2233 - accuracy: 0.9226 - val_loss: 10.2031 - val_accuracy: 0.2529\n",
            "Epoch 10/25\n",
            "97/97 [==============================] - 16s 164ms/step - loss: 0.2325 - accuracy: 0.9164 - val_loss: 10.4594 - val_accuracy: 0.2529\n",
            "Epoch 11/25\n",
            "97/97 [==============================] - 14s 149ms/step - loss: 0.1164 - accuracy: 0.9536 - val_loss: 9.7280 - val_accuracy: 0.2824\n",
            "Epoch 12/25\n",
            "97/97 [==============================] - 15s 157ms/step - loss: 0.1160 - accuracy: 0.9567 - val_loss: 10.7751 - val_accuracy: 0.2647\n",
            "Epoch 13/25\n",
            "97/97 [==============================] - 16s 165ms/step - loss: 0.0914 - accuracy: 0.9618 - val_loss: 9.9549 - val_accuracy: 0.2765\n",
            "Epoch 14/25\n",
            "97/97 [==============================] - 15s 149ms/step - loss: 0.1084 - accuracy: 0.9618 - val_loss: 9.8363 - val_accuracy: 0.2824\n",
            "Epoch 15/25\n",
            "97/97 [==============================] - 17s 178ms/step - loss: 0.0628 - accuracy: 0.9804 - val_loss: 10.5732 - val_accuracy: 0.2706\n",
            "Epoch 16/25\n",
            "97/97 [==============================] - 16s 163ms/step - loss: 0.0987 - accuracy: 0.9628 - val_loss: 10.6590 - val_accuracy: 0.2765\n",
            "Epoch 17/25\n",
            "97/97 [==============================] - 15s 149ms/step - loss: 0.0750 - accuracy: 0.9763 - val_loss: 10.4680 - val_accuracy: 0.2706\n",
            "Epoch 18/25\n",
            "97/97 [==============================] - 14s 148ms/step - loss: 0.0949 - accuracy: 0.9608 - val_loss: 11.4751 - val_accuracy: 0.2471\n",
            "Epoch 19/25\n",
            "97/97 [==============================] - 15s 159ms/step - loss: 0.0749 - accuracy: 0.9711 - val_loss: 11.0599 - val_accuracy: 0.2765\n",
            "Epoch 20/25\n",
            "97/97 [==============================] - 14s 147ms/step - loss: 0.0776 - accuracy: 0.9690 - val_loss: 11.4265 - val_accuracy: 0.2588\n",
            "Epoch 21/25\n",
            "97/97 [==============================] - 15s 149ms/step - loss: 0.1146 - accuracy: 0.9577 - val_loss: 11.8469 - val_accuracy: 0.2765\n",
            "Epoch 22/25\n",
            "97/97 [==============================] - 15s 158ms/step - loss: 0.0687 - accuracy: 0.9680 - val_loss: 11.3898 - val_accuracy: 0.2647\n",
            "Epoch 23/25\n",
            "97/97 [==============================] - 14s 147ms/step - loss: 0.0281 - accuracy: 0.9928 - val_loss: 11.7120 - val_accuracy: 0.2588\n",
            "Epoch 24/25\n",
            "97/97 [==============================] - 14s 149ms/step - loss: 0.0237 - accuracy: 0.9928 - val_loss: 11.2648 - val_accuracy: 0.2706\n",
            "Epoch 25/25\n",
            "97/97 [==============================] - 15s 159ms/step - loss: 0.0291 - accuracy: 0.9907 - val_loss: 11.3854 - val_accuracy: 0.2706\n"
          ]
        },
        {
          "output_type": "execute_result",
          "data": {
            "text/plain": [
              "<keras.callbacks.History at 0x7fd0fb5543d0>"
            ]
          },
          "metadata": {},
          "execution_count": 91
        }
      ]
    },
    {
      "cell_type": "code",
      "source": [
        "model.save('level.h5')"
      ],
      "metadata": {
        "id": "9psiS4rXQ9an"
      },
      "execution_count": 92,
      "outputs": []
    },
    {
      "cell_type": "code",
      "source": [],
      "metadata": {
        "id": "F5JeUMb8VILz"
      },
      "execution_count": null,
      "outputs": []
    }
  ],
  "metadata": {
    "kernelspec": {
      "display_name": "Python 3.7.9 64-bit (microsoft store)",
      "language": "python",
      "name": "python3"
    },
    "language_info": {
      "codemirror_mode": {
        "name": "ipython",
        "version": 3
      },
      "file_extension": ".py",
      "mimetype": "text/x-python",
      "name": "python",
      "nbconvert_exporter": "python",
      "pygments_lexer": "ipython3",
      "version": "3.7.9"
    },
    "orig_nbformat": 4,
    "vscode": {
      "interpreter": {
        "hash": "b81d285a39ce6bce5fc3d0e228a6124a883049b7dbc9a3a4527a4b38646ff66a"
      }
    },
    "colab": {
      "provenance": [],
      "collapsed_sections": []
    },
    "accelerator": "GPU",
    "gpuClass": "standard"
  },
  "nbformat": 4,
  "nbformat_minor": 0
}